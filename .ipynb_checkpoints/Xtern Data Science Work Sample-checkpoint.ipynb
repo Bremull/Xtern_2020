{
 "cells": [
  {
   "cell_type": "markdown",
   "metadata": {},
   "source": [
    "# Xtern Data Science Work Sample: FoodieX"
   ]
  },
  {
   "cell_type": "markdown",
   "metadata": {},
   "source": [
    "## Goal Review the data and draw four conclusions you can find from the data set"
   ]
  },
  {
   "cell_type": "markdown",
   "metadata": {},
   "source": [
    "### Set Up"
   ]
  },
  {
   "cell_type": "code",
   "execution_count": 1,
   "metadata": {},
   "outputs": [],
   "source": [
    "import pandas as pd\n",
    "import numpy as np\n",
    "import math as m\n",
    "import matplotlib.pyplot as plt\n",
    "import seaborn as sns\n",
    "from scipy.stats import linregress\n",
    "\n",
    "fd = pd.read_csv(\"2020-XTern-DS.csv\")"
   ]
  },
  {
   "cell_type": "markdown",
   "metadata": {},
   "source": [
    "### Display Dataset"
   ]
  },
  {
   "cell_type": "code",
   "execution_count": 2,
   "metadata": {
    "scrolled": true
   },
   "outputs": [
    {
     "data": {
      "text/html": [
       "<div>\n",
       "<style scoped>\n",
       "    .dataframe tbody tr th:only-of-type {\n",
       "        vertical-align: middle;\n",
       "    }\n",
       "\n",
       "    .dataframe tbody tr th {\n",
       "        vertical-align: top;\n",
       "    }\n",
       "\n",
       "    .dataframe thead th {\n",
       "        text-align: right;\n",
       "    }\n",
       "</style>\n",
       "<table border=\"1\" class=\"dataframe\">\n",
       "  <thead>\n",
       "    <tr style=\"text-align: right;\">\n",
       "      <th></th>\n",
       "      <th>Restaurant</th>\n",
       "      <th>Latitude</th>\n",
       "      <th>Longitude</th>\n",
       "      <th>Cuisines</th>\n",
       "      <th>Average_Cost</th>\n",
       "      <th>Minimum_Order</th>\n",
       "      <th>Rating</th>\n",
       "      <th>Votes</th>\n",
       "      <th>Reviews</th>\n",
       "      <th>Cook_Time</th>\n",
       "    </tr>\n",
       "  </thead>\n",
       "  <tbody>\n",
       "    <tr>\n",
       "      <th>0</th>\n",
       "      <td>ID_6321</td>\n",
       "      <td>39.262605</td>\n",
       "      <td>-85.837372</td>\n",
       "      <td>Fast Food, Rolls, Burger, Salad, Wraps</td>\n",
       "      <td>$20.00</td>\n",
       "      <td>$50.00</td>\n",
       "      <td>3.5</td>\n",
       "      <td>12</td>\n",
       "      <td>4</td>\n",
       "      <td>30 minutes</td>\n",
       "    </tr>\n",
       "    <tr>\n",
       "      <th>1</th>\n",
       "      <td>ID_2882</td>\n",
       "      <td>39.775933</td>\n",
       "      <td>-85.740581</td>\n",
       "      <td>Ice Cream, Desserts</td>\n",
       "      <td>$10.00</td>\n",
       "      <td>$50.00</td>\n",
       "      <td>3.5</td>\n",
       "      <td>11</td>\n",
       "      <td>4</td>\n",
       "      <td>30 minutes</td>\n",
       "    </tr>\n",
       "    <tr>\n",
       "      <th>2</th>\n",
       "      <td>ID_1595</td>\n",
       "      <td>39.253436</td>\n",
       "      <td>-85.123779</td>\n",
       "      <td>Italian, Street Food, Fast Food</td>\n",
       "      <td>$15.00</td>\n",
       "      <td>$50.00</td>\n",
       "      <td>3.6</td>\n",
       "      <td>99</td>\n",
       "      <td>30</td>\n",
       "      <td>65 minutes</td>\n",
       "    </tr>\n",
       "    <tr>\n",
       "      <th>3</th>\n",
       "      <td>ID_5929</td>\n",
       "      <td>39.029841</td>\n",
       "      <td>-85.332050</td>\n",
       "      <td>Mughlai, North Indian, Chinese</td>\n",
       "      <td>$25.00</td>\n",
       "      <td>$99.00</td>\n",
       "      <td>3.7</td>\n",
       "      <td>176</td>\n",
       "      <td>95</td>\n",
       "      <td>30 minutes</td>\n",
       "    </tr>\n",
       "    <tr>\n",
       "      <th>4</th>\n",
       "      <td>ID_6123</td>\n",
       "      <td>39.882284</td>\n",
       "      <td>-85.517407</td>\n",
       "      <td>Cafe, Beverages</td>\n",
       "      <td>$20.00</td>\n",
       "      <td>$99.00</td>\n",
       "      <td>3.2</td>\n",
       "      <td>521</td>\n",
       "      <td>235</td>\n",
       "      <td>65 minutes</td>\n",
       "    </tr>\n",
       "    <tr>\n",
       "      <th>...</th>\n",
       "      <td>...</td>\n",
       "      <td>...</td>\n",
       "      <td>...</td>\n",
       "      <td>...</td>\n",
       "      <td>...</td>\n",
       "      <td>...</td>\n",
       "      <td>...</td>\n",
       "      <td>...</td>\n",
       "      <td>...</td>\n",
       "      <td>...</td>\n",
       "    </tr>\n",
       "    <tr>\n",
       "      <th>2011</th>\n",
       "      <td>ID_3928</td>\n",
       "      <td>39.353682</td>\n",
       "      <td>-85.071878</td>\n",
       "      <td>North Indian, South Indian, Chinese, Fast Food</td>\n",
       "      <td>$25.00</td>\n",
       "      <td>$50.00</td>\n",
       "      <td>3.3</td>\n",
       "      <td>29</td>\n",
       "      <td>6</td>\n",
       "      <td>45 minutes</td>\n",
       "    </tr>\n",
       "    <tr>\n",
       "      <th>2012</th>\n",
       "      <td>ID_3201</td>\n",
       "      <td>39.039147</td>\n",
       "      <td>-85.114505</td>\n",
       "      <td>Beverages, Fast Food</td>\n",
       "      <td>$15.00</td>\n",
       "      <td>$50.00</td>\n",
       "      <td>3.7</td>\n",
       "      <td>22</td>\n",
       "      <td>16</td>\n",
       "      <td>30 minutes</td>\n",
       "    </tr>\n",
       "    <tr>\n",
       "      <th>2013</th>\n",
       "      <td>ID_5794</td>\n",
       "      <td>39.764745</td>\n",
       "      <td>-85.121567</td>\n",
       "      <td>Bengali</td>\n",
       "      <td>$20.00</td>\n",
       "      <td>$50.00</td>\n",
       "      <td>3.3</td>\n",
       "      <td>16</td>\n",
       "      <td>6</td>\n",
       "      <td>30 minutes</td>\n",
       "    </tr>\n",
       "    <tr>\n",
       "      <th>2015</th>\n",
       "      <td>ID_319</td>\n",
       "      <td>39.133719</td>\n",
       "      <td>-85.503020</td>\n",
       "      <td>Awadhi, Bihari</td>\n",
       "      <td>$40.00</td>\n",
       "      <td>$99.00</td>\n",
       "      <td>4.1</td>\n",
       "      <td>118</td>\n",
       "      <td>91</td>\n",
       "      <td>30 minutes</td>\n",
       "    </tr>\n",
       "    <tr>\n",
       "      <th>2018</th>\n",
       "      <td>ID_8403</td>\n",
       "      <td>39.460944</td>\n",
       "      <td>-85.484355</td>\n",
       "      <td>Desserts, Beverages</td>\n",
       "      <td>$150.00</td>\n",
       "      <td>$50.00</td>\n",
       "      <td>4.1</td>\n",
       "      <td>271</td>\n",
       "      <td>172</td>\n",
       "      <td>45 minutes</td>\n",
       "    </tr>\n",
       "  </tbody>\n",
       "</table>\n",
       "<p>1666 rows × 10 columns</p>\n",
       "</div>"
      ],
      "text/plain": [
       "     Restaurant   Latitude  Longitude  \\\n",
       "0       ID_6321  39.262605 -85.837372   \n",
       "1       ID_2882  39.775933 -85.740581   \n",
       "2       ID_1595  39.253436 -85.123779   \n",
       "3       ID_5929  39.029841 -85.332050   \n",
       "4       ID_6123  39.882284 -85.517407   \n",
       "...         ...        ...        ...   \n",
       "2011    ID_3928  39.353682 -85.071878   \n",
       "2012    ID_3201  39.039147 -85.114505   \n",
       "2013    ID_5794  39.764745 -85.121567   \n",
       "2015     ID_319  39.133719 -85.503020   \n",
       "2018    ID_8403  39.460944 -85.484355   \n",
       "\n",
       "                                            Cuisines Average_Cost  \\\n",
       "0             Fast Food, Rolls, Burger, Salad, Wraps       $20.00   \n",
       "1                                Ice Cream, Desserts       $10.00   \n",
       "2                    Italian, Street Food, Fast Food       $15.00   \n",
       "3                     Mughlai, North Indian, Chinese       $25.00   \n",
       "4                                    Cafe, Beverages       $20.00   \n",
       "...                                              ...          ...   \n",
       "2011  North Indian, South Indian, Chinese, Fast Food       $25.00   \n",
       "2012                            Beverages, Fast Food       $15.00   \n",
       "2013                                         Bengali       $20.00   \n",
       "2015                                  Awadhi, Bihari       $40.00   \n",
       "2018                             Desserts, Beverages      $150.00   \n",
       "\n",
       "     Minimum_Order Rating Votes Reviews   Cook_Time  \n",
       "0           $50.00    3.5    12       4  30 minutes  \n",
       "1           $50.00    3.5    11       4  30 minutes  \n",
       "2           $50.00    3.6    99      30  65 minutes  \n",
       "3           $99.00    3.7   176      95  30 minutes  \n",
       "4           $99.00    3.2   521     235  65 minutes  \n",
       "...            ...    ...   ...     ...         ...  \n",
       "2011        $50.00    3.3    29       6  45 minutes  \n",
       "2012        $50.00    3.7    22      16  30 minutes  \n",
       "2013        $50.00    3.3    16       6  30 minutes  \n",
       "2015        $99.00    4.1   118      91  30 minutes  \n",
       "2018        $50.00    4.1   271     172  45 minutes  \n",
       "\n",
       "[1666 rows x 10 columns]"
      ]
     },
     "execution_count": 2,
     "metadata": {},
     "output_type": "execute_result"
    }
   ],
   "source": [
    "# Removed New and Opening Soon data sets\n",
    "fd = fd[fd.Rating != \"NEW\"]\n",
    "fd = fd[fd.Rating != \"Opening Soon\"]\n",
    "fd = fd[fd.Rating != \"-\"]\n",
    "\n",
    "fd"
   ]
  },
  {
   "cell_type": "code",
   "execution_count": 3,
   "metadata": {},
   "outputs": [
    {
     "name": "stdout",
     "output_type": "stream",
     "text": [
      "<class 'pandas.core.frame.DataFrame'>\n",
      "Int64Index: 1666 entries, 0 to 2018\n",
      "Data columns (total 10 columns):\n",
      " #   Column         Non-Null Count  Dtype  \n",
      "---  ------         --------------  -----  \n",
      " 0   Restaurant     1666 non-null   object \n",
      " 1   Latitude       1666 non-null   float64\n",
      " 2   Longitude      1666 non-null   float64\n",
      " 3   Cuisines       1666 non-null   object \n",
      " 4   Average_Cost   1666 non-null   object \n",
      " 5   Minimum_Order  1666 non-null   object \n",
      " 6   Rating         1666 non-null   object \n",
      " 7   Votes          1666 non-null   object \n",
      " 8   Reviews        1666 non-null   object \n",
      " 9   Cook_Time      1666 non-null   object \n",
      "dtypes: float64(2), object(8)\n",
      "memory usage: 143.2+ KB\n"
     ]
    }
   ],
   "source": [
    "fd.info()"
   ]
  },
  {
   "cell_type": "code",
   "execution_count": 4,
   "metadata": {},
   "outputs": [],
   "source": [
    "def convert_currency(val):\n",
    "    \"\"\"\n",
    "    Convert the string number value to a float\n",
    "     - Remove $\n",
    "     - Remove commas\n",
    "     - Convert to float type\n",
    "    \"\"\"\n",
    "    new_val = val.replace(',','').replace('$', '')\n",
    "    return float(new_val)\n",
    "\n",
    "avg_cost= fd['Average_Cost'].apply(convert_currency)\n",
    "min_ord = fd['Minimum_Order'].apply(convert_currency)"
   ]
  },
  {
   "cell_type": "markdown",
   "metadata": {},
   "source": [
    "## Question 1: Is there a positive relationship between Average cost and Ratings?"
   ]
  },
  {
   "cell_type": "markdown",
   "metadata": {},
   "source": [
    "Null Hypothesis: There is a positive relationship between average cost and ratings\n",
    "Alternative Hypothesis: There is no relationship at all between average cost and ratings."
   ]
  },
  {
   "cell_type": "code",
   "execution_count": 5,
   "metadata": {},
   "outputs": [
    {
     "data": {
      "image/png": "[encoded data removed]",
      "text/plain": [
       "<Figure size 432x288 with 1 Axes>"
      ]
     },
     "metadata": {
      "needs_background": "light"
     },
     "output_type": "display_data"
    },
    {
     "data": {
      "text/plain": [
       "<Figure size 72x360 with 0 Axes>"
      ]
     },
     "metadata": {},
     "output_type": "display_data"
    }
   ],
   "source": [
    "fd = fd.sort_values(by = \"Rating\", ascending = False)\n",
    "y = fd['Average_Cost'].apply(convert_currency)\n",
    "x = fd.Rating\n",
    "\n",
    "plt.scatter(x, y)\n",
    "\n",
    "plt.xlabel(\"Rating\")\n",
    "plt.ylabel(\"Average Cost\")\n",
    "\n",
    "plt.xticks(fontsize=7)\n",
    "plt.yticks(fontsize=10)\n",
    "plt.title(\"Ratings vs Average Cost\")\n",
    "plt.figure(figsize=(1,5))\n",
    "\n",
    "plt.show()"
   ]
  },
  {
   "cell_type": "markdown",
   "metadata": {},
   "source": [
    "### Analysis"
   ]
  },
  {
   "cell_type": "code",
   "execution_count": 6,
   "metadata": {},
   "outputs": [
    {
     "data": {
      "text/plain": [
       "-0.07483316649983306"
      ]
     },
     "execution_count": 6,
     "metadata": {},
     "output_type": "execute_result"
    }
   ],
   "source": [
    "mean_avg_cost = fd.Average_Cost.mean\n",
    "std_cost = fd.Average_Cost.std\n",
    "\n",
    "mean_rating = fd.Rating.mean\n",
    "std_rating = fd.Rating.std\n",
    "\n",
    "## Mean Avg Cost = 15, STD = 15\n",
    "## Mean Rating = 4.8, STD = 4.8\n",
    "x = fd['Average_Cost'].apply(convert_currency)\n",
    "y = fd['Rating'].apply(convert_currency)\n",
    "\n",
    "c_1 = (x - 15)/15\n",
    "c_2 = (y - 4.8)/ 4.8\n",
    "n = 1666\n",
    "\n",
    "sum(c_1 * c_2)/(1666-1)\n",
    "# Correlation = -0.0748"
   ]
  },
  {
   "cell_type": "markdown",
   "metadata": {},
   "source": [
    "## Conclusion #1"
   ]
  },
  {
   "cell_type": "markdown",
   "metadata": {},
   "source": [
    "No, there isn't a positive relationship between average cost and ratings. Furthermore, based on the correlation of -0.075, we can say that there is little to no linear correltion between average cost and ratings. Therefore we have weak evidence against the null hypothesis."
   ]
  },
  {
   "cell_type": "markdown",
   "metadata": {},
   "source": [
    "# Question 2: What location is the best?"
   ]
  },
  {
   "cell_type": "markdown",
   "metadata": {},
   "source": [
    "I will determine this based off of rating. With this as my factor in determining who is the best, I can say that resturants ID_7412 and ID_4728 are the best. We can use vote ratio as a tiebreaker (votes/reviews). Location 7412 had a ratio of 1.39 votes per review and location 4728 had a ratio of 1.53. So now with the tiebreaker decided and analyzed, location 4728 is the best! Here is a visual showing that:"
   ]
  },
  {
   "cell_type": "code",
   "execution_count": 7,
   "metadata": {},
   "outputs": [
    {
     "ename": "AttributeError",
     "evalue": "'DataFrame' object has no attribute 'barh'",
     "output_type": "error",
     "traceback": [
      "\u001b[1;31m---------------------------------------------------------------------------\u001b[0m",
      "\u001b[1;31mAttributeError\u001b[0m                            Traceback (most recent call last)",
      "\u001b[1;32m<ipython-input-7-6c50b40394f6>\u001b[0m in \u001b[0;36m<module>\u001b[1;34m\u001b[0m\n\u001b[1;32m----> 1\u001b[1;33m \u001b[0mfd\u001b[0m\u001b[1;33m.\u001b[0m\u001b[0mbarh\u001b[0m\u001b[1;33m(\u001b[0m\u001b[1;33m)\u001b[0m\u001b[1;33m\u001b[0m\u001b[1;33m\u001b[0m\u001b[0m\n\u001b[0m",
      "\u001b[1;32m~\\anaconda3\\lib\\site-packages\\pandas\\core\\generic.py\u001b[0m in \u001b[0;36m__getattr__\u001b[1;34m(self, name)\u001b[0m\n\u001b[0;32m   5272\u001b[0m             \u001b[1;32mif\u001b[0m \u001b[0mself\u001b[0m\u001b[1;33m.\u001b[0m\u001b[0m_info_axis\u001b[0m\u001b[1;33m.\u001b[0m\u001b[0m_can_hold_identifiers_and_holds_name\u001b[0m\u001b[1;33m(\u001b[0m\u001b[0mname\u001b[0m\u001b[1;33m)\u001b[0m\u001b[1;33m:\u001b[0m\u001b[1;33m\u001b[0m\u001b[1;33m\u001b[0m\u001b[0m\n\u001b[0;32m   5273\u001b[0m                 \u001b[1;32mreturn\u001b[0m \u001b[0mself\u001b[0m\u001b[1;33m[\u001b[0m\u001b[0mname\u001b[0m\u001b[1;33m]\u001b[0m\u001b[1;33m\u001b[0m\u001b[1;33m\u001b[0m\u001b[0m\n\u001b[1;32m-> 5274\u001b[1;33m             \u001b[1;32mreturn\u001b[0m \u001b[0mobject\u001b[0m\u001b[1;33m.\u001b[0m\u001b[0m__getattribute__\u001b[0m\u001b[1;33m(\u001b[0m\u001b[0mself\u001b[0m\u001b[1;33m,\u001b[0m \u001b[0mname\u001b[0m\u001b[1;33m)\u001b[0m\u001b[1;33m\u001b[0m\u001b[1;33m\u001b[0m\u001b[0m\n\u001b[0m\u001b[0;32m   5275\u001b[0m \u001b[1;33m\u001b[0m\u001b[0m\n\u001b[0;32m   5276\u001b[0m     \u001b[1;32mdef\u001b[0m \u001b[0m__setattr__\u001b[0m\u001b[1;33m(\u001b[0m\u001b[0mself\u001b[0m\u001b[1;33m,\u001b[0m \u001b[0mname\u001b[0m\u001b[1;33m:\u001b[0m \u001b[0mstr\u001b[0m\u001b[1;33m,\u001b[0m \u001b[0mvalue\u001b[0m\u001b[1;33m)\u001b[0m \u001b[1;33m->\u001b[0m \u001b[1;32mNone\u001b[0m\u001b[1;33m:\u001b[0m\u001b[1;33m\u001b[0m\u001b[1;33m\u001b[0m\u001b[0m\n",
      "\u001b[1;31mAttributeError\u001b[0m: 'DataFrame' object has no attribute 'barh'"
     ]
    }
   ],
   "source": [
    "fig, ax = plt.subplots()\n",
    "fd = tesla_sales[tesla_sales.year == 2019]\n",
    "ax.bar(ts['quarter'], ts['3-y-sales'])"
   ]
  }
 ],
 "metadata": {
  "kernelspec": {
   "display_name": "Python 3",
   "language": "python",
   "name": "python3"
  },
  "language_info": {
   "codemirror_mode": {
    "name": "ipython",
    "version": 3
   },
   "file_extension": ".py",
   "mimetype": "text/x-python",
   "name": "python",
   "nbconvert_exporter": "python",
   "pygments_lexer": "ipython3",
   "version": "3.8.3"
  }
 },
 "nbformat": 4,
 "nbformat_minor": 4
}
